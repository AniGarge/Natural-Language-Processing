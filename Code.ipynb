{
 "cells": [
  {
   "cell_type": "code",
   "execution_count": null,
   "metadata": {},
   "outputs": [],
   "source": [
    "import nltk\n",
    "from nltk.corpus import PlaintextCorpusReader\n",
    "from bs4 import BeautifulSoup\n",
    "from nltk import FreqDist\n",
    "from nltk.collocations import *\n",
    "corpus=PlaintextCorpusReader('.','.*\\.txt')\n",
    "text=corpus.raw('HW_WikipediaDiscussions.txt')\n",
    "soup=BeautifulSoup(text)\n",
    "text=soup.get_text()\n",
    "tokens=nltk.word_tokenize(text)\n",
    "words=[w.lower() for w in tokens if w.isalpha()]\n",
    "stopwords=nltk.corpus.stopwords.words('english')\n",
    "new_words=[w for w in words if w not in stopwords]\n",
    "top50=fd.most_common(50)\n",
    "for w in top50:\n",
    "    print(w[0],w[1])"
   ]
  },
  {
   "cell_type": "code",
   "execution_count": null,
   "metadata": {},
   "outputs": [],
   "source": []
  }
 ],
 "metadata": {
  "kernelspec": {
   "display_name": "Python 3",
   "language": "python",
   "name": "python3"
  },
  "language_info": {
   "codemirror_mode": {
    "name": "ipython",
    "version": 3
   },
   "file_extension": ".py",
   "mimetype": "text/x-python",
   "name": "python",
   "nbconvert_exporter": "python",
   "pygments_lexer": "ipython3",
   "version": "3.7.1"
  }
 },
 "nbformat": 4,
 "nbformat_minor": 2
}
